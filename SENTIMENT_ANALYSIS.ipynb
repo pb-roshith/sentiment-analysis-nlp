{
  "nbformat": 4,
  "nbformat_minor": 0,
  "metadata": {
    "colab": {
      "provenance": [],
      "authorship_tag": "ABX9TyNlS2R/X5T1XFEHlG35fWNR",
      "include_colab_link": true
    },
    "kernelspec": {
      "name": "python3",
      "display_name": "Python 3"
    },
    "language_info": {
      "name": "python"
    }
  },
  "cells": [
    {
      "cell_type": "markdown",
      "metadata": {
        "id": "view-in-github",
        "colab_type": "text"
      },
      "source": [
        "<a href=\"https://colab.research.google.com/github/pb-roshith/sentiment-analysis-nlp/blob/main/SENTIMENT_ANALYSIS.ipynb\" target=\"_parent\"><img src=\"https://colab.research.google.com/assets/colab-badge.svg\" alt=\"Open In Colab\"/></a>"
      ]
    },
    {
      "cell_type": "code",
      "source": [
        "import nltk\n",
        "from nltk.sentiment.vader import SentimentIntensityAnalyzer\n",
        "nltk.download('vader_lexicon')"
      ],
      "metadata": {
        "colab": {
          "base_uri": "https://localhost:8080/"
        },
        "id": "qXZ2NlfQYtYD",
        "outputId": "8c73306d-23e5-45b5-d665-83703f0c57b2"
      },
      "execution_count": null,
      "outputs": [
        {
          "output_type": "stream",
          "name": "stderr",
          "text": [
            "[nltk_data] Downloading package vader_lexicon to /root/nltk_data...\n",
            "[nltk_data]   Package vader_lexicon is already up-to-date!\n"
          ]
        },
        {
          "output_type": "execute_result",
          "data": {
            "text/plain": [
              "True"
            ]
          },
          "metadata": {},
          "execution_count": 4
        }
      ]
    },
    {
      "cell_type": "code",
      "source": [
        "analyzer = SentimentIntensityAnalyzer()\n",
        "text = \"I am going to die.\"\n",
        "sentiment_scores = analyzer.polarity_scores(text)\n",
        "compound_score = sentiment_scores['compound']"
      ],
      "metadata": {
        "id": "NtwW62IwY4dG"
      },
      "execution_count": null,
      "outputs": []
    },
    {
      "cell_type": "code",
      "source": [
        "if compound_score >= 0.05:\n",
        "  sentiment = \"Positive\"\n",
        "elif compound_score <= -0.05:\n",
        "  sentiment = \"Negative\"\n",
        "else:\n",
        "  sentiment = \"Neutral\""
      ],
      "metadata": {
        "id": "ff7pVa7fY4f4"
      },
      "execution_count": null,
      "outputs": []
    },
    {
      "cell_type": "code",
      "source": [
        "print(f\"Sentiment: {sentiment}\")\n",
        "print(f\"Compound Score: {compound_score}\")"
      ],
      "metadata": {
        "colab": {
          "base_uri": "https://localhost:8080/"
        },
        "id": "5CHj_ciWY4t9",
        "outputId": "b1204ade-0bb1-42b9-b136-0f4c8a330209"
      },
      "execution_count": null,
      "outputs": [
        {
          "output_type": "stream",
          "name": "stdout",
          "text": [
            "Sentiment: Negative\n",
            "Compound Score: -0.5994\n"
          ]
        }
      ]
    }
  ]
}